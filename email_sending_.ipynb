{
  "nbformat": 4,
  "nbformat_minor": 0,
  "metadata": {
    "colab": {
      "name": "email sending .ipynb",
      "provenance": [],
      "authorship_tag": "ABX9TyNDpA2+CYZd7Ly0UJCRN6QA",
      "include_colab_link": true
    },
    "kernelspec": {
      "name": "python3",
      "display_name": "Python 3"
    }
  },
  "cells": [
    {
      "cell_type": "markdown",
      "metadata": {
        "id": "view-in-github",
        "colab_type": "text"
      },
      "source": [
        "<a href=\"https://colab.research.google.com/github/indusatyam22/Narhari-Indira-devi/blob/master/email_sending_.ipynb\" target=\"_parent\"><img src=\"https://colab.research.google.com/assets/colab-badge.svg\" alt=\"Open In Colab\"/></a>"
      ]
    },
    {
      "cell_type": "code",
      "metadata": {
        "colab": {
          "base_uri": "https://localhost:8080/"
        },
        "id": "2DF4AxNLNxs-",
        "outputId": "6af0b102-80ae-4b26-ee07-3f1e6a362862"
      },
      "source": [
        "!pip install emails"
      ],
      "execution_count": 9,
      "outputs": [
        {
          "output_type": "stream",
          "text": [
            "Requirement already satisfied: emails in /usr/local/lib/python3.6/dist-packages (0.6)\n",
            "Requirement already satisfied: premailer in /usr/local/lib/python3.6/dist-packages (from emails) (3.7.0)\n",
            "Requirement already satisfied: requests in /usr/local/lib/python3.6/dist-packages (from emails) (2.23.0)\n",
            "Requirement already satisfied: lxml in /usr/local/lib/python3.6/dist-packages (from emails) (4.2.6)\n",
            "Requirement already satisfied: chardet in /usr/local/lib/python3.6/dist-packages (from emails) (3.0.4)\n",
            "Requirement already satisfied: python-dateutil in /usr/local/lib/python3.6/dist-packages (from emails) (2.8.1)\n",
            "Requirement already satisfied: cssutils in /usr/local/lib/python3.6/dist-packages (from emails) (1.0.2)\n",
            "Requirement already satisfied: cachetools in /usr/local/lib/python3.6/dist-packages (from premailer->emails) (4.2.0)\n",
            "Requirement already satisfied: cssselect in /usr/local/lib/python3.6/dist-packages (from premailer->emails) (1.1.0)\n",
            "Requirement already satisfied: urllib3!=1.25.0,!=1.25.1,<1.26,>=1.21.1 in /usr/local/lib/python3.6/dist-packages (from requests->emails) (1.24.3)\n",
            "Requirement already satisfied: idna<3,>=2.5 in /usr/local/lib/python3.6/dist-packages (from requests->emails) (2.10)\n",
            "Requirement already satisfied: certifi>=2017.4.17 in /usr/local/lib/python3.6/dist-packages (from requests->emails) (2020.12.5)\n",
            "Requirement already satisfied: six>=1.5 in /usr/local/lib/python3.6/dist-packages (from python-dateutil->emails) (1.15.0)\n"
          ],
          "name": "stdout"
        }
      ]
    },
    {
      "cell_type": "code",
      "metadata": {
        "id": "FLoDIGWiN6LE"
      },
      "source": [
        "import emails\r\n",
        "message = emails.html(html=\"<p>hi!<br>here is the mail...\",\r\n",
        "                          subject=\"Your EMAIL FROM PYTHON SCRIPT\",\r\n",
        "                          mail_from=(' some person source', 'indu@123.com'))\r\n",
        "mail_via_python = message.send(to='pidax75546@95ta.com', \r\n",
        "                               smtp={'host': 'smtp.gmail.com', \r\n",
        "                                     'timeout': 5,\r\n",
        "                                    'port':587,\r\n",
        "                                    'user':'my mail.com',\r\n",
        "                                    'password':'password',\r\n",
        "                                    'tls':True})"
      ],
      "execution_count": 10,
      "outputs": []
    },
    {
      "cell_type": "code",
      "metadata": {
        "colab": {
          "base_uri": "https://localhost:8080/"
        },
        "id": "q1LtgVzSPwYJ",
        "outputId": "ac5df018-b0db-4f64-c774-e088333f2128"
      },
      "source": [
        "mail_via_python.status_code"
      ],
      "execution_count": 11,
      "outputs": [
        {
          "output_type": "execute_result",
          "data": {
            "text/plain": [
              "250"
            ]
          },
          "metadata": {
            "tags": []
          },
          "execution_count": 11
        }
      ]
    }
  ]
}