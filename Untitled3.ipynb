{
  "nbformat": 4,
  "nbformat_minor": 0,
  "metadata": {
    "colab": {
      "name": "Untitled3.ipynb",
      "provenance": [],
      "collapsed_sections": [],
      "authorship_tag": "ABX9TyNqj4bAOxmC6FTVsRxuKM8e",
      "include_colab_link": true
    },
    "kernelspec": {
      "name": "python3",
      "display_name": "Python 3"
    }
  },
  "cells": [
    {
      "cell_type": "markdown",
      "metadata": {
        "id": "view-in-github",
        "colab_type": "text"
      },
      "source": [
        "<a href=\"https://colab.research.google.com/github/indusatyam22/Narhari-Indira-devi/blob/master/Untitled3.ipynb\" target=\"_parent\"><img src=\"https://colab.research.google.com/assets/colab-badge.svg\" alt=\"Open In Colab\"/></a>"
      ]
    },
    {
      "cell_type": "code",
      "metadata": {
        "id": "3eZtVjgbhmpy"
      },
      "source": [
        "code= open(\"filehandling.txt\",'w')\r\n",
        "\r\n",
        "code.write(\"i love lets upgrade\")\r\n",
        "code.close()\r\n"
      ],
      "execution_count": 8,
      "outputs": []
    },
    {
      "cell_type": "code",
      "metadata": {
        "id": "hr5A6e_UiItv"
      },
      "source": [
        "code= open(\"filehandling.txt\",'r')\r\n",
        "\r\n",
        "content =code.read()\r\n",
        "\r\n",
        "abc.close()"
      ],
      "execution_count": 9,
      "outputs": []
    },
    {
      "cell_type": "code",
      "metadata": {
        "id": "ohepIS1Uijeu"
      },
      "source": [
        "code= open(\"filehandling.txt\",'a')\r\n",
        "\r\n",
        "code.write(\"its a great project\")\r\n",
        "\r\n",
        "code.close()"
      ],
      "execution_count": 10,
      "outputs": []
    },
    {
      "cell_type": "markdown",
      "metadata": {
        "id": "6nncxYbDm6jg"
      },
      "source": [
        "# **question 2**"
      ]
    },
    {
      "cell_type": "code",
      "metadata": {
        "colab": {
          "base_uri": "https://localhost:8080/"
        },
        "id": "a7UDyl6om9mf",
        "outputId": "6edc5367-1945-4566-a828-a7960cf43788"
      },
      "source": [
        "def factorial(n):\r\n",
        "    if n == 0:\r\n",
        "        return 1\r\n",
        "    else:\r\n",
        "        return n * factorial(n-1)\r\n",
        "n=int(input(\"Input a number to compute the factiorial : \"))\r\n",
        "print(factorial(n))\r\n"
      ],
      "execution_count": 14,
      "outputs": [
        {
          "output_type": "stream",
          "text": [
            "Input a number to compute the factiorial : 3\n",
            "6\n"
          ],
          "name": "stdout"
        }
      ]
    }
  ]
}