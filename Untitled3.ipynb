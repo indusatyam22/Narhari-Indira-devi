{
  "nbformat": 4,
  "nbformat_minor": 0,
  "metadata": {
    "colab": {
      "name": "Untitled3.ipynb",
      "provenance": [],
      "collapsed_sections": [],
      "authorship_tag": "ABX9TyNqCDceTzrHI7dyi8wWz555",
      "include_colab_link": true
    },
    "kernelspec": {
      "name": "python3",
      "display_name": "Python 3"
    }
  },
  "cells": [
    {
      "cell_type": "markdown",
      "metadata": {
        "id": "view-in-github",
        "colab_type": "text"
      },
      "source": [
        "<a href=\"https://colab.research.google.com/github/indusatyam22/Narhari-Indira-devi/blob/master/Untitled3.ipynb\" target=\"_parent\"><img src=\"https://colab.research.google.com/assets/colab-badge.svg\" alt=\"Open In Colab\"/></a>"
      ]
    },
    {
      "cell_type": "code",
      "metadata": {
        "id": "3eZtVjgbhmpy"
      },
      "source": [
        "code= open(\"filehandling.txt\",'w')\r\n",
        "\r\n",
        "code.write(\"i love lets upgrade\")\r\n",
        "code.close()\r\n"
      ],
      "execution_count": 8,
      "outputs": []
    },
    {
      "cell_type": "code",
      "metadata": {
        "id": "hr5A6e_UiItv"
      },
      "source": [
        "code= open(\"filehandling.txt\",'r')\r\n",
        "\r\n",
        "content =code.read()\r\n",
        "\r\n",
        "abc.close()"
      ],
      "execution_count": 9,
      "outputs": []
    },
    {
      "cell_type": "code",
      "metadata": {
        "id": "ohepIS1Uijeu"
      },
      "source": [
        "code= open(\"filehandling.txt\",'a')\r\n",
        "\r\n",
        "code.write(\"its a great project\")\r\n",
        "\r\n",
        "code.close()"
      ],
      "execution_count": 10,
      "outputs": []
    }
  ]
}