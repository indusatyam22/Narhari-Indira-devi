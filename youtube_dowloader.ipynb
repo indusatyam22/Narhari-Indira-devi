{
  "nbformat": 4,
  "nbformat_minor": 0,
  "metadata": {
    "colab": {
      "name": "youtube dowloader.ipynb",
      "provenance": [],
      "authorship_tag": "ABX9TyMv1hsriThfMLHxxmgOh2a7",
      "include_colab_link": true
    },
    "kernelspec": {
      "name": "python3",
      "display_name": "Python 3"
    }
  },
  "cells": [
    {
      "cell_type": "markdown",
      "metadata": {
        "id": "view-in-github",
        "colab_type": "text"
      },
      "source": [
        "<a href=\"https://colab.research.google.com/github/indusatyam22/Narhari-Indira-devi/blob/master/youtube_dowloader.ipynb\" target=\"_parent\"><img src=\"https://colab.research.google.com/assets/colab-badge.svg\" alt=\"Open In Colab\"/></a>"
      ]
    },
    {
      "cell_type": "code",
      "metadata": {
        "id": "tsBKOXcLqFBg"
      },
      "source": [
        "from pytube import YouTube\r\n",
        "import os\r\n",
        "from tkinter import *\r\n",
        "\r\n",
        "root=Tk()\r\n",
        "root.geometry('600x200')\r\n",
        "root.title('Youtube Video Downloader')\r\n",
        "\r\n",
        "\r\n",
        "Label_1=Label(root,text=\"Paste The Youtube Link Here\", font=(\"bold\",20))\r\n",
        "Label_1.place(x=120,y=20)\r\n",
        "\r\n",
        "\r\n",
        "mylink=StringVar()\r\n",
        "\r\n",
        "pastelink=Entry(root, width=60, textvariable=mylink)\r\n",
        "pastelink.place(x=140, y=80)\r\n",
        "\r\n",
        "#link=\"https://www.youtube.com/watch?v=0NV1KdWRHck\"\r\n",
        "\r\n",
        "def downloadVideo():\r\n",
        "    x=str(mylink.get())\r\n",
        "    ytvideo=YouTube(x).streams.filter(progressive=True, file_extension='mp4').order_by('resolution').desc().first()\r\n",
        "    if not os.path.exists('F:/letsupgrade'):\r\n",
        "        os.makedirs('F:/Letsupgrade')\r\n",
        "    ytvideo.download('F:/Letsupgrade') \r\n",
        "\r\n",
        "Button(root,text=\"Download Video\", width=20, bg='green',fg=\"white\", command=downloadVideo).place(x=220, y=110)\r\n",
        "\r\n",
        "root.mainloop()"
      ],
      "execution_count": null,
      "outputs": []
    }
  ]
}